{
  "cells": [
    {
      "cell_type": "markdown",
      "metadata": {
        "id": "pE61FiygYx_T"
      },
      "source": [
        "# Chapter 1 - Introduction: Key Concepts, Notation, Set Theory, Relations, and Functions\n",
        "\n",
        "This notebook contains code accompanying Chapter 1 Introduction: Key Concepts, Notation, Set Theory, Relations, and Functions in *Practical Discrete Mathematics* by Ryan T. White and Archana Tikayat Ray\n",
        "\n",
        "## Functions and Relations\n",
        "\n",
        "### The `sort()` function"
      ]
    },
    {
      "cell_type": "code",
      "execution_count": null,
      "metadata": {
        "id": "Wg6_3VTrYx_Z",
        "outputId": "61c83e57-ecd9-4963-d696-e9ac4c7c1a05"
      },
      "outputs": [
        {
          "name": "stdout",
          "output_type": "stream",
          "text": [
            "[1, 2, 3, 4, 5, 8, 9, 12]\n",
            "['Brandon', 'Elise', 'Eugene', 'Kumar', 'Wyatt']\n"
          ]
        }
      ],
      "source": [
        "numbers = [3, 1, 4, 12, 8, 5, 2, 9]\n",
        "names = ['Wyatt', 'Brandon', 'Kumar', 'Eugene', 'Elise']\n",
        "\n",
        "# Apply the sort() function to the lists\n",
        "numbers.sort()\n",
        "names.sort()\n",
        "\n",
        "# Display the output\n",
        "print(numbers)\n",
        "print(names)"
      ]
    },
    {
      "cell_type": "markdown",
      "metadata": {
        "id": "CtWk-bisYx_e"
      },
      "source": [
        "### The `shuffle()` function"
      ]
    },
    {
      "cell_type": "code",
      "execution_count": null,
      "metadata": {
        "colab": {
          "base_uri": "https://localhost:8080/"
        },
        "id": "5xbDoSY4Yx_e",
        "outputId": "24511543-2fa3-48dd-a0f0-ca836ad0150d"
      },
      "outputs": [
        {
          "output_type": "stream",
          "name": "stdout",
          "text": [
            "[12, 2, 1, 5, 9, 3, 8, 4]\n",
            "[4, 2, 8, 3, 1, 12, 5, 9]\n",
            "[4, 5, 1, 9, 3, 8, 12, 2]\n",
            "[9, 12, 2, 8, 5, 3, 4, 1]\n",
            "[9, 8, 4, 3, 12, 1, 5, 2]\n"
          ]
        }
      ],
      "source": [
        "import random\n",
        "\n",
        "# Set a random seed so the code is reproducible\n",
        "random.seed(1)\n",
        "\n",
        "# Run the random.shuffle() function 5 times and display the outputs\n",
        "for i in range(0,5):\n",
        "    numbers = [3, 1, 4, 12, 8, 5, 2, 9]\n",
        "    random.shuffle(numbers)\n",
        "    print(numbers)\n"
      ]
    },
    {
      "cell_type": "markdown",
      "source": [
        "## Ramdomly create 2 set of number, find the number in the two sets ##"
      ],
      "metadata": {
        "id": "CgSfsqAsaIU_"
      }
    },
    {
      "cell_type": "code",
      "source": [
        "import random\n",
        "\n",
        "# Generate random sets\n",
        "size_set_a = 5\n",
        "size_set_b = 7\n",
        "\n",
        "range_a = (1, 20)\n",
        "range_b = (10, 30)\n",
        "\n",
        "set_a = set(random.sample(range(*range_a), size_set_a))\n",
        "set_b = set(random.sample(range(*range_b), size_set_b))\n",
        "\n",
        "# Find common elements\n",
        "common_elements = set_a.intersection(set_b)\n",
        "\n",
        "print(\"Set A:\", set_a)\n",
        "print(\"Set B:\", set_b)\n",
        "print(\"Common elements:\", common_elements)\n",
        "\n"
      ],
      "metadata": {
        "colab": {
          "base_uri": "https://localhost:8080/"
        },
        "id": "Q33cDAwdaiDS",
        "outputId": "26313bd3-9c5f-4089-9641-0ab6d83377a8"
      },
      "execution_count": null,
      "outputs": [
        {
          "output_type": "stream",
          "name": "stdout",
          "text": [
            "Set A: {10, 13, 16, 17, 19}\n",
            "Set B: {11, 12, 17, 20, 22, 23, 25}\n",
            "Common elements: {17}\n"
          ]
        }
      ]
    },
    {
      "cell_type": "markdown",
      "source": [
        "Shuffle the character in your name. For the example: Appple Chan. After shuffle it will be eplepa nhac"
      ],
      "metadata": {
        "id": "26x9-ChXbG2a"
      }
    },
    {
      "cell_type": "code",
      "source": [
        "import random\n",
        "\n",
        "def shuffle_name(name):\n",
        "    # Convert the name to a list of characters\n",
        "    char_list = list(name)\n",
        "\n",
        "    # Shuffle the characters randomly\n",
        "    random.shuffle(char_list)\n",
        "\n",
        "    # Join the shuffled characters back into a string\n",
        "    shuffled_name = ''.join(char_list)\n",
        "\n",
        "    return shuffled_name\n",
        "\n",
        "# Example usage\n",
        "original_name = \"Jun\"\n",
        "shuffled_result = shuffle_name(original_name)\n",
        "\n",
        "print(f\"Original Name: {original_name}\")\n",
        "print(f\"Shuffled Name: {shuffled_result}\")\n"
      ],
      "metadata": {
        "colab": {
          "base_uri": "https://localhost:8080/"
        },
        "id": "32i2fBqRbfFf",
        "outputId": "ed3a8f0f-e6c4-4f44-e0b6-efd69803dead"
      },
      "execution_count": null,
      "outputs": [
        {
          "output_type": "stream",
          "name": "stdout",
          "text": [
            "Original Name: Jun\n",
            "Shuffled Name: Jnu\n"
          ]
        }
      ]
    },
    {
      "cell_type": "markdown",
      "source": [
        "Extract a table from wikipedia http://en.wikipedia.org/wiki/Frieren\n"
      ],
      "metadata": {
        "id": "BQzWsORKbjxJ"
      }
    },
    {
      "cell_type": "code",
      "source": [
        "import requests\n",
        "from bs4 import BeautifulSoup\n",
        "import pandas as pd\n",
        "\n",
        "def scrape_wikipedia_table(url):\n",
        "    response = requests.get(url)\n",
        "    soup = BeautifulSoup(response.content, 'lxml')\n",
        "\n",
        "    # Find the table you're interested in (adjust the selector as needed)\n",
        "    table = soup.select_one('table.wikitable')\n",
        "\n",
        "    # Read the table into a DataFrame\n",
        "    df = pd.read_html(str(table))[0]\n",
        "\n",
        "    return df\n",
        "\n",
        "if __name__ == '__main__':\n",
        "    wikipedia_url = 'http://en.wikipedia.org/wiki/Frieren'\n",
        "    extracted_table = scrape_wikipedia_table(wikipedia_url)\n",
        "    print(extracted_table)"
      ],
      "metadata": {
        "colab": {
          "base_uri": "https://localhost:8080/"
        },
        "id": "XWsR8LtHcBDw",
        "outputId": "4342809d-4ba8-41a2-c35b-431145bbfcd8"
      },
      "execution_count": null,
      "outputs": [
        {
          "output_type": "stream",
          "name": "stdout",
          "text": [
            "    Year                                    Award  \\\n",
            "0   2021                          New Manga Award   \n",
            "1   2021                        14th Manga Taishō   \n",
            "2   2021         25th Tezuka Osamu Cultural Prize   \n",
            "3   2021  eBook Initiative Japan [ja] Manga Award   \n",
            "4   2021                45th Kodansha Manga Award   \n",
            "5   2021                 5th Tsutaya Comic Awards   \n",
            "6   2021                     7th Next Manga Award   \n",
            "7   2022                46th Kodansha Manga Award   \n",
            "8   2023        Rakuten Kobo's E-book Manga Award   \n",
            "9   2023              69th Shogakukan Manga Award   \n",
            "10  2024                48th Kodansha Manga Award   \n",
            "11  2024                       36th Harvey Awards   \n",
            "\n",
            "                                             Category     Result          ref.  \n",
            "0                                          Best Manga  2nd place          [74]  \n",
            "1                                         Grand Prize        Won  [75][76][77]  \n",
            "2                                   New Creator Prize        Won  [78][79][80]  \n",
            "3                                         Grand Prize  2nd place      [81][82]  \n",
            "4                                   Best Shōnen Manga  Nominated          [83]  \n",
            "5                                            Next Hit  5th place          [84]  \n",
            "6                                Print Manga Category  3rd place          [85]  \n",
            "7                                   Best Shōnen Manga  Nominated          [86]  \n",
            "8   I Want to Deliver It to the World! Top Recomme...        Won          [87]  \n",
            "9                                                —[b]        Won          [90]  \n",
            "10                                  Best Shōnen Manga        Won      [91][92]  \n",
            "11                                         Best Manga    Pending          [93]  \n"
          ]
        },
        {
          "output_type": "stream",
          "name": "stderr",
          "text": [
            "<ipython-input-9-a4e3c1cefd42>:13: FutureWarning: Passing literal html to 'read_html' is deprecated and will be removed in a future version. To read from a literal string, wrap it in a 'StringIO' object.\n",
            "  df = pd.read_html(str(table))[0]\n"
          ]
        }
      ]
    }
  ],
  "metadata": {
    "kernelspec": {
      "display_name": "Python 3.7 (DL)",
      "language": "python",
      "name": "dl"
    },
    "language_info": {
      "codemirror_mode": {
        "name": "ipython",
        "version": 3
      },
      "file_extension": ".py",
      "mimetype": "text/x-python",
      "name": "python",
      "nbconvert_exporter": "python",
      "pygments_lexer": "ipython3",
      "version": "3.7.7"
    },
    "colab": {
      "provenance": []
    }
  },
  "nbformat": 4,
  "nbformat_minor": 0
}