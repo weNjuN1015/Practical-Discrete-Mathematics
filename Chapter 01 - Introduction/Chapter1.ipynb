{
  "cells": [
    {
      "cell_type": "markdown",
      "metadata": {
        "id": "pE61FiygYx_T"
      },
      "source": [
        "# Chapter 1 - Introduction: Key Concepts, Notation, Set Theory, Relations, and Functions\n",
        "\n",
        "This notebook contains code accompanying Chapter 1 Introduction: Key Concepts, Notation, Set Theory, Relations, and Functions in *Practical Discrete Mathematics* by Ryan T. White and Archana Tikayat Ray\n",
        "\n",
        "## Functions and Relations\n",
        "\n",
        "### The `sort()` function"
      ]
    },
    {
      "cell_type": "code",
      "execution_count": null,
      "metadata": {
        "id": "Wg6_3VTrYx_Z",
        "outputId": "61c83e57-ecd9-4963-d696-e9ac4c7c1a05"
      },
      "outputs": [
        {
          "name": "stdout",
          "output_type": "stream",
          "text": [
            "[1, 2, 3, 4, 5, 8, 9, 12]\n",
            "['Brandon', 'Elise', 'Eugene', 'Kumar', 'Wyatt']\n"
          ]
        }
      ],
      "source": [
        "numbers = [3, 1, 4, 12, 8, 5, 2, 9]\n",
        "names = ['Wyatt', 'Brandon', 'Kumar', 'Eugene', 'Elise']\n",
        "\n",
        "# Apply the sort() function to the lists\n",
        "numbers.sort()\n",
        "names.sort()\n",
        "\n",
        "# Display the output\n",
        "print(numbers)\n",
        "print(names)"
      ]
    },
    {
      "cell_type": "markdown",
      "metadata": {
        "id": "CtWk-bisYx_e"
      },
      "source": [
        "### The `shuffle()` function"
      ]
    },
    {
      "cell_type": "code",
      "execution_count": null,
      "metadata": {
        "colab": {
          "base_uri": "https://localhost:8080/"
        },
        "id": "5xbDoSY4Yx_e",
        "outputId": "24511543-2fa3-48dd-a0f0-ca836ad0150d"
      },
      "outputs": [
        {
          "output_type": "stream",
          "name": "stdout",
          "text": [
            "[12, 2, 1, 5, 9, 3, 8, 4]\n",
            "[4, 2, 8, 3, 1, 12, 5, 9]\n",
            "[4, 5, 1, 9, 3, 8, 12, 2]\n",
            "[9, 12, 2, 8, 5, 3, 4, 1]\n",
            "[9, 8, 4, 3, 12, 1, 5, 2]\n"
          ]
        }
      ],
      "source": [
        "import random\n",
        "\n",
        "# Set a random seed so the code is reproducible\n",
        "random.seed(1)\n",
        "\n",
        "# Run the random.shuffle() function 5 times and display the outputs\n",
        "for i in range(0,5):\n",
        "    numbers = [3, 1, 4, 12, 8, 5, 2, 9]\n",
        "    random.shuffle(numbers)\n",
        "    print(numbers)\n"
      ]
    },
    {
      "cell_type": "markdown",
      "source": [
        "## Ramdomly create 2 set of number, find the number in the two sets ##"
      ],
      "metadata": {
        "id": "CgSfsqAsaIU_"
      }
    },
    {
      "cell_type": "code",
      "source": [
        "import random\n",
        "\n",
        "# Generate random sets\n",
        "size_set_a = 5\n",
        "size_set_b = 7\n",
        "\n",
        "range_a = (1, 20)\n",
        "range_b = (10, 30)\n",
        "\n",
        "set_a = set(random.sample(range(*range_a), size_set_a))\n",
        "set_b = set(random.sample(range(*range_b), size_set_b))\n",
        "\n",
        "# Find common elements\n",
        "common_elements = set_a.intersection(set_b)\n",
        "\n",
        "print(\"Set A:\", set_a)\n",
        "print(\"Set B:\", set_b)\n",
        "print(\"Common elements:\", common_elements)\n",
        "\n"
      ],
      "metadata": {
        "colab": {
          "base_uri": "https://localhost:8080/"
        },
        "id": "Q33cDAwdaiDS",
        "outputId": "26313bd3-9c5f-4089-9641-0ab6d83377a8"
      },
      "execution_count": null,
      "outputs": [
        {
          "output_type": "stream",
          "name": "stdout",
          "text": [
            "Set A: {10, 13, 16, 17, 19}\n",
            "Set B: {11, 12, 17, 20, 22, 23, 25}\n",
            "Common elements: {17}\n"
          ]
        }
      ]
    },
    {
      "cell_type": "markdown",
      "source": [
        "Shuffle the character in your name. For the example: Appple Chan. After shuffle it will be eplepa nhac"
      ],
      "metadata": {
        "id": "26x9-ChXbG2a"
      }
    },
    {
      "cell_type": "code",
      "source": [
        "import random\n",
        "\n",
        "def shuffle_name(name):\n",
        "    # Convert the name to a list of characters\n",
        "    char_list = list(name)\n",
        "\n",
        "    # Shuffle the characters randomly\n",
        "    random.shuffle(char_list)\n",
        "\n",
        "    # Join the shuffled characters back into a string\n",
        "    shuffled_name = ''.join(char_list)\n",
        "\n",
        "    return shuffled_name\n",
        "\n",
        "# Example usage\n",
        "original_name = \"Jun\"\n",
        "shuffled_result = shuffle_name(original_name)\n",
        "\n",
        "print(f\"Original Name: {original_name}\")\n",
        "print(f\"Shuffled Name: {shuffled_result}\")\n"
      ],
      "metadata": {
        "colab": {
          "base_uri": "https://localhost:8080/"
        },
        "id": "32i2fBqRbfFf",
        "outputId": "ed3a8f0f-e6c4-4f44-e0b6-efd69803dead"
      },
      "execution_count": null,
      "outputs": [
        {
          "output_type": "stream",
          "name": "stdout",
          "text": [
            "Original Name: Jun\n",
            "Shuffled Name: Jnu\n"
          ]
        }
      ]
    },
    {
      "cell_type": "markdown",
      "source": [
        "Extract a table from wikipedia http://en.wikipedia.org/wiki/Frieren\n"
      ],
      "metadata": {
        "id": "BQzWsORKbjxJ"
      }
    },
    {
      "cell_type": "code",
      "source": [
        "import requests\n",
        "from bs4 import BeautifulSoup\n",
        "import pandas as pd\n",
        "\n",
        "def scrape_wikipedia_table(url):\n",
        "    response = requests.get(url)\n",
        "    soup = BeautifulSoup(response.content, 'lxml')\n",
        "\n",
        "    # Find the table you're interested in (adjust the selector as needed)\n",
        "    table = soup.select_one('table.wikitable')\n",
        "\n",
        "    # Read the table into a DataFrame\n",
        "    df = pd.read_html(str(table))[0]\n",
        "\n",
        "    return df\n",
        "\n",
        "if __name__ == '__main__':\n",
        "    wikipedia_url = 'http://en.wikipedia.org/wiki/Frieren'\n",
        "    extracted_table = scrape_wikipedia_table(wikipedia_url)\n",
        "    print(extracted_table)"
      ],
      "metadata": {
        "colab": {
          "base_uri": "https://localhost:8080/"
        },
        "id": "XWsR8LtHcBDw",
        "outputId": "4342809d-4ba8-41a2-c35b-431145bbfcd8"
      },
      "execution_count": null,
      "outputs": [
        {
          "output_type": "stream",
          "name": "stdout",
          "text": [
            "    Year                                    Award  \\\n",
            "0   2021                          New Manga Award   \n",
            "1   2021                        14th Manga Taishō   \n",
            "2   2021         25th Tezuka Osamu Cultural Prize   \n",
            "3   2021  eBook Initiative Japan [ja] Manga Award   \n",
            "4   2021                45th Kodansha Manga Award   \n",
            "5   2021                 5th Tsutaya Comic Awards   \n",
            "6   2021                     7th Next Manga Award   \n",
            "7   2022                46th Kodansha Manga Award   \n",
            "8   2023        Rakuten Kobo's E-book Manga Award   \n",
            "9   2023              69th Shogakukan Manga Award   \n",
            "10  2024                48th Kodansha Manga Award   \n",
            "11  2024                       36th Harvey Awards   \n",
            "\n",
            "                                             Category     Result          ref.  \n",
            "0                                          Best Manga  2nd place          [74]  \n",
            "1                                         Grand Prize        Won  [75][76][77]  \n",
            "2                                   New Creator Prize        Won  [78][79][80]  \n",
            "3                                         Grand Prize  2nd place      [81][82]  \n",
            "4                                   Best Shōnen Manga  Nominated          [83]  \n",
            "5                                            Next Hit  5th place          [84]  \n",
            "6                                Print Manga Category  3rd place          [85]  \n",
            "7                                   Best Shōnen Manga  Nominated          [86]  \n",
            "8   I Want to Deliver It to the World! Top Recomme...        Won          [87]  \n",
            "9                                                —[b]        Won          [90]  \n",
            "10                                  Best Shōnen Manga        Won      [91][92]  \n",
            "11                                         Best Manga    Pending          [93]  \n"
          ]
        },
        {
          "output_type": "stream",
          "name": "stderr",
          "text": [
            "<ipython-input-9-a4e3c1cefd42>:13: FutureWarning: Passing literal html to 'read_html' is deprecated and will be removed in a future version. To read from a literal string, wrap it in a 'StringIO' object.\n",
            "  df = pd.read_html(str(table))[0]\n"
          ]
        }
      ]
    },
    {
      "cell_type": "code",
      "source": [
        "# This code will prompt the user to enter their name and then greet them\n",
        "\n",
        "# Taking user input\n",
        "user_name = input(\"Enter your name: \")\n",
        "\n",
        "# Displaying the greeting message\n",
        "print(f\"Hello, {user_name}! Welcome to Google Colab.\")"
      ],
      "metadata": {
        "id": "wPYRtYQBVhX-",
        "outputId": "13c2a7a8-ef9d-477d-d395-4a2336127c78",
        "colab": {
          "base_uri": "https://localhost:8080/"
        }
      },
      "execution_count": 1,
      "outputs": [
        {
          "output_type": "stream",
          "name": "stdout",
          "text": [
            "Enter your name: WenJun\n",
            "Hello, WenJun! Welcome to Google Colab.\n"
          ]
        }
      ]
    },
    {
      "cell_type": "code",
      "source": [
        "def evaluate_expression(p, q):\n",
        "    # Define your logical expression here (e.g., p and q)\n",
        "    return p and q\n",
        "\n",
        "def generate_truth_table():\n",
        "    variables = ['p', 'q']\n",
        "    header = '\\t'.join(variables + ['Expression Result'])\n",
        "    print(header)\n",
        "\n",
        "    for p in [True, False]:\n",
        "        for q in [True, False]:\n",
        "            result = evaluate_expression(p, q)\n",
        "            print(f\"{p}\\t{q}\\t{result}\")\n",
        "\n",
        "# Generate and display the truth table\n",
        "generate_truth_table()\n"
      ],
      "metadata": {
        "id": "EpzY4TWkXLyp",
        "outputId": "a76af9c4-19e3-4f33-846f-5e33a4ef5c2b",
        "colab": {
          "base_uri": "https://localhost:8080/"
        }
      },
      "execution_count": 3,
      "outputs": [
        {
          "output_type": "stream",
          "name": "stdout",
          "text": [
            "p\tq\tExpression Result\n",
            "True\tTrue\tTrue\n",
            "True\tFalse\tFalse\n",
            "False\tTrue\tFalse\n",
            "False\tFalse\tFalse\n"
          ]
        }
      ]
    },
    {
      "cell_type": "markdown",
      "source": [
        "Generate and display the truth table"
      ],
      "metadata": {
        "id": "iCgBEChRVynI"
      }
    },
    {
      "cell_type": "code",
      "source": [
        "import pandas as pd\n",
        "# Define the truth values for propositions A and B\n",
        "A = [True, True, False, False] #list = ordered collection in python\n",
        "B = [True, False, True, False]\n",
        "# Calculate the logical expressions\n",
        "A_and_B = [a and b for a, b in zip (A, B)]\n",
        "A_or_B = [a or b for a, b in zip (A, B)]\n",
        "not_A = [not a for a in A]\n",
        "# Create a dictionary to hold the truth table\n",
        "truth_table = {\n",
        "'A' : A,\n",
        "'B' : B,\n",
        "'A AND B' : A_and_B,\n",
        "'A OR B' : A_or_B,\n",
        "'NOT A': not A\n",
        "}\n",
        "\n",
        "#convert the dictionary to a pandas Dataframe\n",
        "df = pd.DataFrame(truth_table)\n",
        "\n",
        "#Display the truth table\n",
        "print(df)"
      ],
      "metadata": {
        "id": "2V8CtWsIYmcv",
        "outputId": "fa621230-44fb-42e9-f343-cba7e297f3e1",
        "colab": {
          "base_uri": "https://localhost:8080/"
        }
      },
      "execution_count": 11,
      "outputs": [
        {
          "output_type": "stream",
          "name": "stdout",
          "text": [
            "       A      B  A AND B  A OR B  NOT A\n",
            "0   True   True     True    True  False\n",
            "1   True  False    False    True  False\n",
            "2  False   True    False    True  False\n",
            "3  False  False    False   False  False\n"
          ]
        }
      ]
    },
    {
      "cell_type": "code",
      "source": [
        "import pandas as pd\n",
        "import itertools\n",
        "\n",
        "# Function to extract variables from the user's expression\n",
        "def extract_variables(expression):\n",
        "    # Extract unique alphabetic characters from the expression as variables\n",
        "    variables = sorted(set(filter(str.isalpha, expression.replace('not', '').replace('and', '').replace('or', '').replace(' ', ''))))\n",
        "    return variables\n",
        "\n",
        "# Function to generate the truth table\n",
        "def generate_truth_table(expression):\n",
        "    # Extract variables from the expression\n",
        "    variables = extract_variables(expression)\n",
        "\n",
        "    # Generate all possible combinations of True/False for the variables\n",
        "    combinations = list(itertools.product([True, False], repeat=len(variables)))\n",
        "\n",
        "    # Create a dictionary to hold the truth values for each variable and the result\n",
        "    truth_table = {var: [] for var in variables}\n",
        "    truth_table['Result'] = []\n",
        "\n",
        "    # Evaluate the expression for each combination of truth values\n",
        "    for combination in combinations:\n",
        "        # Create a dictionary to map variable names to values\n",
        "        var_dict = dict(zip(variables, combination))\n",
        "\n",
        "        # Evaluate the expression using the current truth values\n",
        "        try:\n",
        "            result = eval(expression, {}, var_dict)\n",
        "        except Exception as e:\n",
        "            return f\"Error in evaluating expression: {e}\"\n",
        "\n",
        "        # Append the truth values and the result to the truth table\n",
        "        for var, value in var_dict.items():\n",
        "            truth_table[var].append(value)\n",
        "        truth_table['Result'].append(result)\n",
        "\n",
        "    # Convert the truth table dictionary to a pandas DataFrame\n",
        "    df = pd.DataFrame(truth_table)\n",
        "    return df\n",
        "\n",
        "# Take user input for the logical expression\n",
        "expression = input(\"Enter a logical expression (e.g., 'p and q or not r'): \")\n",
        "\n",
        "# Generate the truth table\n",
        "df = generate_truth_table(expression)\n",
        "\n",
        "# Display the truth table\n",
        "print(df)\n"
      ],
      "metadata": {
        "id": "Ph1LXYmgcR5O",
        "outputId": "cbfb6621-6d71-4716-bdf6-2178cd40475d",
        "colab": {
          "base_uri": "https://localhost:8080/"
        }
      },
      "execution_count": 20,
      "outputs": [
        {
          "output_type": "stream",
          "name": "stdout",
          "text": [
            "Enter a logical expression (e.g., 'p and q or not r'): p  and r\n",
            "       p      r  Result\n",
            "0   True   True    True\n",
            "1   True  False   False\n",
            "2  False   True   False\n",
            "3  False  False   False\n"
          ]
        }
      ]
    }
  ],
  "metadata": {
    "kernelspec": {
      "display_name": "Python 3.7 (DL)",
      "language": "python",
      "name": "dl"
    },
    "language_info": {
      "codemirror_mode": {
        "name": "ipython",
        "version": 3
      },
      "file_extension": ".py",
      "mimetype": "text/x-python",
      "name": "python",
      "nbconvert_exporter": "python",
      "pygments_lexer": "ipython3",
      "version": "3.7.7"
    },
    "colab": {
      "provenance": []
    }
  },
  "nbformat": 4,
  "nbformat_minor": 0
}